{
 "cells": [
  {
   "cell_type": "markdown",
   "metadata": {},
   "source": [
    "# Baixando dados em tempo real"
   ]
  },
  {
   "cell_type": "markdown",
   "metadata": {},
   "source": [
    "Faremos extrações utilizando o módulo 'stock_info' do pacote 'yahoo finance', que permite que capturemos dados do mercado de ações em tempo real."
   ]
  },
  {
   "cell_type": "markdown",
   "metadata": {},
   "source": [
    "## Preparando o ambiente"
   ]
  },
  {
   "cell_type": "code",
   "execution_count": null,
   "metadata": {
    "scrolled": true
   },
   "outputs": [],
   "source": [
    "# Instalando os pacotes necessários\n",
    "\n",
    "#!pip install requests_html\n",
    "#!pip install yahoo_fin"
   ]
  },
  {
   "cell_type": "code",
   "execution_count": null,
   "metadata": {},
   "outputs": [],
   "source": [
    "from yahoo_fin import stock_info as si\n",
    "import time\n",
    "import datetime\n",
    "import pandas as pd"
   ]
  },
  {
   "cell_type": "markdown",
   "metadata": {},
   "source": [
    "## Fazendo a extração"
   ]
  },
  {
   "cell_type": "code",
   "execution_count": null,
   "metadata": {},
   "outputs": [],
   "source": [
    "# Testando as consultas para Apple e Vale.\n",
    "\n",
    "round(si.get_live_price('aapl'), 2)"
   ]
  },
  {
   "cell_type": "code",
   "execution_count": null,
   "metadata": {},
   "outputs": [],
   "source": [
    "round(si.get_live_price('VALE3.SA'), 2)"
   ]
  },
  {
   "cell_type": "markdown",
   "metadata": {},
   "source": [
    "A cte 'n' definirá por quantos minutos faremos a consulta. A cte 's' define a cada quantos segundos faremos a consulta ao longo do tempo de 'n' minutos. \n",
    "\n",
    "Definimos 'tempo' como o tempo de agora + 'n' minutos, pois o nosso 'while' seguirá rodando enquanto o tempo atual for menor do que a variável tempo."
   ]
  },
  {
   "cell_type": "code",
   "execution_count": null,
   "metadata": {},
   "outputs": [],
   "source": [
    "n = 1\n",
    "s = 5"
   ]
  },
  {
   "cell_type": "code",
   "execution_count": null,
   "metadata": {
    "scrolled": true
   },
   "outputs": [],
   "source": [
    "tempo = time.time() + 60*n\n",
    "\n",
    "# criamos uma cte que será referência para o nosso indice\n",
    "a = 0\n",
    "\n",
    "# criamos um df vazio, com as colunas de mesmo nome que definiremos em um dicionário, mais adiante.\n",
    "df = pd.DataFrame(columns = ['Hora', 'Preço'])\n",
    "\n",
    "# while com lógica citada no parágrado acima. Enquanto ele estiver rodando a ação será de pergar o preço de uma ação\n",
    "# no temo atual (preco), pegar o tempo atual e formata-lo como dia-mes-ano hora-minuto-segundo. Salvamos isso num\n",
    "# dicionário, printamos o dic para verificação, definimos um objeto chamado 'linha', que será um df de indice 'a'\n",
    "# e add 1 à 'a'. Na sequência juntamos a 'linha' ao df criado. A cada rodada a variavel 'linha' será sobrescrita.\n",
    "# No fim do código mostramos quanto tempo esperar para cada nova captura.\n",
    "while time.time() < tempo:\n",
    "\n",
    "  preco = round(si.get_live_price('ETH-USD'), 2)\n",
    "  tempo_real = datetime.datetime.fromtimestamp(time.time())\n",
    "  tempo_real = tempo_real.strftime(\"%d-%b-%Y %H:%M:%S\")\n",
    "\n",
    "  d = {'Hora': tempo_real, 'Preço': preco}\n",
    "\n",
    "  print(d)\n",
    "\n",
    "  linha = pd.DataFrame(data = d, index = [a])\n",
    "\n",
    "  a += 1\n",
    "\n",
    "  df = pd.concat([df, linha], ignore_index= True)\n",
    "\n",
    "  time.sleep(s)"
   ]
  },
  {
   "cell_type": "markdown",
   "metadata": {},
   "source": [
    "### Plotando os resultados"
   ]
  },
  {
   "cell_type": "code",
   "execution_count": null,
   "metadata": {},
   "outputs": [],
   "source": [
    "# Para a data ficar no eixo x, trocamos o índice\n",
    "df.index = df['Hora']"
   ]
  },
  {
   "cell_type": "code",
   "execution_count": null,
   "metadata": {},
   "outputs": [],
   "source": [
    "df.plot(figsize = (20,8))"
   ]
  }
 ],
 "metadata": {
  "kernelspec": {
   "display_name": "Python 3",
   "language": "python",
   "name": "python3"
  },
  "language_info": {
   "codemirror_mode": {
    "name": "ipython",
    "version": 3
   },
   "file_extension": ".py",
   "mimetype": "text/x-python",
   "name": "python",
   "nbconvert_exporter": "python",
   "pygments_lexer": "ipython3",
   "version": "3.7.6"
  }
 },
 "nbformat": 4,
 "nbformat_minor": 4
}
